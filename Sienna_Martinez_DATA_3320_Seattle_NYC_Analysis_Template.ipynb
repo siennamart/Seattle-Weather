{
  "nbformat": 4,
  "nbformat_minor": 0,
  "metadata": {
    "colab": {
      "provenance": []
    },
    "kernelspec": {
      "name": "python3",
      "display_name": "Python 3"
    },
    "language_info": {
      "name": "python"
    }
  },
  "cells": [
    {
      "cell_type": "markdown",
      "source": [
        "## Introduction"
      ],
      "metadata": {
        "id": "cOSJyABoshOK"
      }
    },
    {
      "cell_type": "markdown",
      "source": [
        "In this research analysis we will be comparing precipitation levels in New York City and Seattle. The purpose of this analysis will be to see which city has higher average precipitation levels and specifically which parts of the year is it at its hiighest and lowest."
      ],
      "metadata": {
        "id": "26hIPGtBsi7g"
      }
    },
    {
      "cell_type": "markdown",
      "source": [
        "## Import libraries"
      ],
      "metadata": {
        "id": "dwvtDMCYlPus"
      }
    },
    {
      "cell_type": "code",
      "execution_count": 1,
      "metadata": {
        "id": "DQZAzYri_ru5"
      },
      "outputs": [],
      "source": [
        "import pandas as pd\n",
        "import numpy as np\n",
        "import matplotlib.pyplot as plt\n",
        "import seaborn as sns\n",
        "sns.set_theme(style='whitegrid')\n",
        "import missingno as msno\n",
        "import altair as alt"
      ]
    },
    {
      "cell_type": "markdown",
      "source": [
        "## Load clean data"
      ],
      "metadata": {
        "id": "gm4P0PathHWa"
      }
    },
    {
      "cell_type": "markdown",
      "source": [
        "##### $\\rightarrow$ Load the clean data set from Github."
      ],
      "metadata": {
        "id": "3f5ZlncEy6_-"
      }
    },
    {
      "cell_type": "code",
      "source": [
        "df_rainfall = pd.read_csv('https://raw.githubusercontent.com/siennamart/Seattle-Weather/main/SM_clean_seattle_nyc_weather.csv')\n",
        "df_rainfall"
      ],
      "metadata": {
        "id": "gUJV9NjM4nng",
        "colab": {
          "base_uri": "https://localhost:8080/",
          "height": 423
        },
        "outputId": "302cf253-0610-4e1d-8d50-624c34b68e4b"
      },
      "execution_count": 34,
      "outputs": [
        {
          "output_type": "execute_result",
          "data": {
            "text/plain": [
              "            date city  precipitation  month  year\n",
              "0     2020-01-01  NYC           0.00      1  2020\n",
              "1     2020-01-02  NYC           0.00      1  2020\n",
              "2     2020-01-03  NYC           0.21      1  2020\n",
              "3     2020-01-04  NYC           0.12      1  2020\n",
              "4     2020-01-05  NYC           0.00      1  2020\n",
              "...          ...  ...            ...    ...   ...\n",
              "2917  2023-12-27  SEA           0.00     12  2023\n",
              "2918  2023-12-28  SEA           0.26     12  2023\n",
              "2919  2023-12-29  SEA           0.08     12  2023\n",
              "2920  2023-12-30  SEA           0.02     12  2023\n",
              "2921  2023-12-31  SEA           0.06     12  2023\n",
              "\n",
              "[2922 rows x 5 columns]"
            ],
            "text/html": [
              "\n",
              "  <div id=\"df-75fd80af-f64e-40ad-b2df-abed6a44f39f\" class=\"colab-df-container\">\n",
              "    <div>\n",
              "<style scoped>\n",
              "    .dataframe tbody tr th:only-of-type {\n",
              "        vertical-align: middle;\n",
              "    }\n",
              "\n",
              "    .dataframe tbody tr th {\n",
              "        vertical-align: top;\n",
              "    }\n",
              "\n",
              "    .dataframe thead th {\n",
              "        text-align: right;\n",
              "    }\n",
              "</style>\n",
              "<table border=\"1\" class=\"dataframe\">\n",
              "  <thead>\n",
              "    <tr style=\"text-align: right;\">\n",
              "      <th></th>\n",
              "      <th>date</th>\n",
              "      <th>city</th>\n",
              "      <th>precipitation</th>\n",
              "      <th>month</th>\n",
              "      <th>year</th>\n",
              "    </tr>\n",
              "  </thead>\n",
              "  <tbody>\n",
              "    <tr>\n",
              "      <th>0</th>\n",
              "      <td>2020-01-01</td>\n",
              "      <td>NYC</td>\n",
              "      <td>0.00</td>\n",
              "      <td>1</td>\n",
              "      <td>2020</td>\n",
              "    </tr>\n",
              "    <tr>\n",
              "      <th>1</th>\n",
              "      <td>2020-01-02</td>\n",
              "      <td>NYC</td>\n",
              "      <td>0.00</td>\n",
              "      <td>1</td>\n",
              "      <td>2020</td>\n",
              "    </tr>\n",
              "    <tr>\n",
              "      <th>2</th>\n",
              "      <td>2020-01-03</td>\n",
              "      <td>NYC</td>\n",
              "      <td>0.21</td>\n",
              "      <td>1</td>\n",
              "      <td>2020</td>\n",
              "    </tr>\n",
              "    <tr>\n",
              "      <th>3</th>\n",
              "      <td>2020-01-04</td>\n",
              "      <td>NYC</td>\n",
              "      <td>0.12</td>\n",
              "      <td>1</td>\n",
              "      <td>2020</td>\n",
              "    </tr>\n",
              "    <tr>\n",
              "      <th>4</th>\n",
              "      <td>2020-01-05</td>\n",
              "      <td>NYC</td>\n",
              "      <td>0.00</td>\n",
              "      <td>1</td>\n",
              "      <td>2020</td>\n",
              "    </tr>\n",
              "    <tr>\n",
              "      <th>...</th>\n",
              "      <td>...</td>\n",
              "      <td>...</td>\n",
              "      <td>...</td>\n",
              "      <td>...</td>\n",
              "      <td>...</td>\n",
              "    </tr>\n",
              "    <tr>\n",
              "      <th>2917</th>\n",
              "      <td>2023-12-27</td>\n",
              "      <td>SEA</td>\n",
              "      <td>0.00</td>\n",
              "      <td>12</td>\n",
              "      <td>2023</td>\n",
              "    </tr>\n",
              "    <tr>\n",
              "      <th>2918</th>\n",
              "      <td>2023-12-28</td>\n",
              "      <td>SEA</td>\n",
              "      <td>0.26</td>\n",
              "      <td>12</td>\n",
              "      <td>2023</td>\n",
              "    </tr>\n",
              "    <tr>\n",
              "      <th>2919</th>\n",
              "      <td>2023-12-29</td>\n",
              "      <td>SEA</td>\n",
              "      <td>0.08</td>\n",
              "      <td>12</td>\n",
              "      <td>2023</td>\n",
              "    </tr>\n",
              "    <tr>\n",
              "      <th>2920</th>\n",
              "      <td>2023-12-30</td>\n",
              "      <td>SEA</td>\n",
              "      <td>0.02</td>\n",
              "      <td>12</td>\n",
              "      <td>2023</td>\n",
              "    </tr>\n",
              "    <tr>\n",
              "      <th>2921</th>\n",
              "      <td>2023-12-31</td>\n",
              "      <td>SEA</td>\n",
              "      <td>0.06</td>\n",
              "      <td>12</td>\n",
              "      <td>2023</td>\n",
              "    </tr>\n",
              "  </tbody>\n",
              "</table>\n",
              "<p>2922 rows × 5 columns</p>\n",
              "</div>\n",
              "    <div class=\"colab-df-buttons\">\n",
              "\n",
              "  <div class=\"colab-df-container\">\n",
              "    <button class=\"colab-df-convert\" onclick=\"convertToInteractive('df-75fd80af-f64e-40ad-b2df-abed6a44f39f')\"\n",
              "            title=\"Convert this dataframe to an interactive table.\"\n",
              "            style=\"display:none;\">\n",
              "\n",
              "  <svg xmlns=\"http://www.w3.org/2000/svg\" height=\"24px\" viewBox=\"0 -960 960 960\">\n",
              "    <path d=\"M120-120v-720h720v720H120Zm60-500h600v-160H180v160Zm220 220h160v-160H400v160Zm0 220h160v-160H400v160ZM180-400h160v-160H180v160Zm440 0h160v-160H620v160ZM180-180h160v-160H180v160Zm440 0h160v-160H620v160Z\"/>\n",
              "  </svg>\n",
              "    </button>\n",
              "\n",
              "  <style>\n",
              "    .colab-df-container {\n",
              "      display:flex;\n",
              "      gap: 12px;\n",
              "    }\n",
              "\n",
              "    .colab-df-convert {\n",
              "      background-color: #E8F0FE;\n",
              "      border: none;\n",
              "      border-radius: 50%;\n",
              "      cursor: pointer;\n",
              "      display: none;\n",
              "      fill: #1967D2;\n",
              "      height: 32px;\n",
              "      padding: 0 0 0 0;\n",
              "      width: 32px;\n",
              "    }\n",
              "\n",
              "    .colab-df-convert:hover {\n",
              "      background-color: #E2EBFA;\n",
              "      box-shadow: 0px 1px 2px rgba(60, 64, 67, 0.3), 0px 1px 3px 1px rgba(60, 64, 67, 0.15);\n",
              "      fill: #174EA6;\n",
              "    }\n",
              "\n",
              "    .colab-df-buttons div {\n",
              "      margin-bottom: 4px;\n",
              "    }\n",
              "\n",
              "    [theme=dark] .colab-df-convert {\n",
              "      background-color: #3B4455;\n",
              "      fill: #D2E3FC;\n",
              "    }\n",
              "\n",
              "    [theme=dark] .colab-df-convert:hover {\n",
              "      background-color: #434B5C;\n",
              "      box-shadow: 0px 1px 3px 1px rgba(0, 0, 0, 0.15);\n",
              "      filter: drop-shadow(0px 1px 2px rgba(0, 0, 0, 0.3));\n",
              "      fill: #FFFFFF;\n",
              "    }\n",
              "  </style>\n",
              "\n",
              "    <script>\n",
              "      const buttonEl =\n",
              "        document.querySelector('#df-75fd80af-f64e-40ad-b2df-abed6a44f39f button.colab-df-convert');\n",
              "      buttonEl.style.display =\n",
              "        google.colab.kernel.accessAllowed ? 'block' : 'none';\n",
              "\n",
              "      async function convertToInteractive(key) {\n",
              "        const element = document.querySelector('#df-75fd80af-f64e-40ad-b2df-abed6a44f39f');\n",
              "        const dataTable =\n",
              "          await google.colab.kernel.invokeFunction('convertToInteractive',\n",
              "                                                    [key], {});\n",
              "        if (!dataTable) return;\n",
              "\n",
              "        const docLinkHtml = 'Like what you see? Visit the ' +\n",
              "          '<a target=\"_blank\" href=https://colab.research.google.com/notebooks/data_table.ipynb>data table notebook</a>'\n",
              "          + ' to learn more about interactive tables.';\n",
              "        element.innerHTML = '';\n",
              "        dataTable['output_type'] = 'display_data';\n",
              "        await google.colab.output.renderOutput(dataTable, element);\n",
              "        const docLink = document.createElement('div');\n",
              "        docLink.innerHTML = docLinkHtml;\n",
              "        element.appendChild(docLink);\n",
              "      }\n",
              "    </script>\n",
              "  </div>\n",
              "\n",
              "\n",
              "<div id=\"df-c7ed3b95-c152-4d8d-81f0-0f86692528ea\">\n",
              "  <button class=\"colab-df-quickchart\" onclick=\"quickchart('df-c7ed3b95-c152-4d8d-81f0-0f86692528ea')\"\n",
              "            title=\"Suggest charts\"\n",
              "            style=\"display:none;\">\n",
              "\n",
              "<svg xmlns=\"http://www.w3.org/2000/svg\" height=\"24px\"viewBox=\"0 0 24 24\"\n",
              "     width=\"24px\">\n",
              "    <g>\n",
              "        <path d=\"M19 3H5c-1.1 0-2 .9-2 2v14c0 1.1.9 2 2 2h14c1.1 0 2-.9 2-2V5c0-1.1-.9-2-2-2zM9 17H7v-7h2v7zm4 0h-2V7h2v10zm4 0h-2v-4h2v4z\"/>\n",
              "    </g>\n",
              "</svg>\n",
              "  </button>\n",
              "\n",
              "<style>\n",
              "  .colab-df-quickchart {\n",
              "      --bg-color: #E8F0FE;\n",
              "      --fill-color: #1967D2;\n",
              "      --hover-bg-color: #E2EBFA;\n",
              "      --hover-fill-color: #174EA6;\n",
              "      --disabled-fill-color: #AAA;\n",
              "      --disabled-bg-color: #DDD;\n",
              "  }\n",
              "\n",
              "  [theme=dark] .colab-df-quickchart {\n",
              "      --bg-color: #3B4455;\n",
              "      --fill-color: #D2E3FC;\n",
              "      --hover-bg-color: #434B5C;\n",
              "      --hover-fill-color: #FFFFFF;\n",
              "      --disabled-bg-color: #3B4455;\n",
              "      --disabled-fill-color: #666;\n",
              "  }\n",
              "\n",
              "  .colab-df-quickchart {\n",
              "    background-color: var(--bg-color);\n",
              "    border: none;\n",
              "    border-radius: 50%;\n",
              "    cursor: pointer;\n",
              "    display: none;\n",
              "    fill: var(--fill-color);\n",
              "    height: 32px;\n",
              "    padding: 0;\n",
              "    width: 32px;\n",
              "  }\n",
              "\n",
              "  .colab-df-quickchart:hover {\n",
              "    background-color: var(--hover-bg-color);\n",
              "    box-shadow: 0 1px 2px rgba(60, 64, 67, 0.3), 0 1px 3px 1px rgba(60, 64, 67, 0.15);\n",
              "    fill: var(--button-hover-fill-color);\n",
              "  }\n",
              "\n",
              "  .colab-df-quickchart-complete:disabled,\n",
              "  .colab-df-quickchart-complete:disabled:hover {\n",
              "    background-color: var(--disabled-bg-color);\n",
              "    fill: var(--disabled-fill-color);\n",
              "    box-shadow: none;\n",
              "  }\n",
              "\n",
              "  .colab-df-spinner {\n",
              "    border: 2px solid var(--fill-color);\n",
              "    border-color: transparent;\n",
              "    border-bottom-color: var(--fill-color);\n",
              "    animation:\n",
              "      spin 1s steps(1) infinite;\n",
              "  }\n",
              "\n",
              "  @keyframes spin {\n",
              "    0% {\n",
              "      border-color: transparent;\n",
              "      border-bottom-color: var(--fill-color);\n",
              "      border-left-color: var(--fill-color);\n",
              "    }\n",
              "    20% {\n",
              "      border-color: transparent;\n",
              "      border-left-color: var(--fill-color);\n",
              "      border-top-color: var(--fill-color);\n",
              "    }\n",
              "    30% {\n",
              "      border-color: transparent;\n",
              "      border-left-color: var(--fill-color);\n",
              "      border-top-color: var(--fill-color);\n",
              "      border-right-color: var(--fill-color);\n",
              "    }\n",
              "    40% {\n",
              "      border-color: transparent;\n",
              "      border-right-color: var(--fill-color);\n",
              "      border-top-color: var(--fill-color);\n",
              "    }\n",
              "    60% {\n",
              "      border-color: transparent;\n",
              "      border-right-color: var(--fill-color);\n",
              "    }\n",
              "    80% {\n",
              "      border-color: transparent;\n",
              "      border-right-color: var(--fill-color);\n",
              "      border-bottom-color: var(--fill-color);\n",
              "    }\n",
              "    90% {\n",
              "      border-color: transparent;\n",
              "      border-bottom-color: var(--fill-color);\n",
              "    }\n",
              "  }\n",
              "</style>\n",
              "\n",
              "  <script>\n",
              "    async function quickchart(key) {\n",
              "      const quickchartButtonEl =\n",
              "        document.querySelector('#' + key + ' button');\n",
              "      quickchartButtonEl.disabled = true;  // To prevent multiple clicks.\n",
              "      quickchartButtonEl.classList.add('colab-df-spinner');\n",
              "      try {\n",
              "        const charts = await google.colab.kernel.invokeFunction(\n",
              "            'suggestCharts', [key], {});\n",
              "      } catch (error) {\n",
              "        console.error('Error during call to suggestCharts:', error);\n",
              "      }\n",
              "      quickchartButtonEl.classList.remove('colab-df-spinner');\n",
              "      quickchartButtonEl.classList.add('colab-df-quickchart-complete');\n",
              "    }\n",
              "    (() => {\n",
              "      let quickchartButtonEl =\n",
              "        document.querySelector('#df-c7ed3b95-c152-4d8d-81f0-0f86692528ea button');\n",
              "      quickchartButtonEl.style.display =\n",
              "        google.colab.kernel.accessAllowed ? 'block' : 'none';\n",
              "    })();\n",
              "  </script>\n",
              "</div>\n",
              "\n",
              "  <div id=\"id_3cb1b8c3-472e-4d99-a715-099dc2385380\">\n",
              "    <style>\n",
              "      .colab-df-generate {\n",
              "        background-color: #E8F0FE;\n",
              "        border: none;\n",
              "        border-radius: 50%;\n",
              "        cursor: pointer;\n",
              "        display: none;\n",
              "        fill: #1967D2;\n",
              "        height: 32px;\n",
              "        padding: 0 0 0 0;\n",
              "        width: 32px;\n",
              "      }\n",
              "\n",
              "      .colab-df-generate:hover {\n",
              "        background-color: #E2EBFA;\n",
              "        box-shadow: 0px 1px 2px rgba(60, 64, 67, 0.3), 0px 1px 3px 1px rgba(60, 64, 67, 0.15);\n",
              "        fill: #174EA6;\n",
              "      }\n",
              "\n",
              "      [theme=dark] .colab-df-generate {\n",
              "        background-color: #3B4455;\n",
              "        fill: #D2E3FC;\n",
              "      }\n",
              "\n",
              "      [theme=dark] .colab-df-generate:hover {\n",
              "        background-color: #434B5C;\n",
              "        box-shadow: 0px 1px 3px 1px rgba(0, 0, 0, 0.15);\n",
              "        filter: drop-shadow(0px 1px 2px rgba(0, 0, 0, 0.3));\n",
              "        fill: #FFFFFF;\n",
              "      }\n",
              "    </style>\n",
              "    <button class=\"colab-df-generate\" onclick=\"generateWithVariable('df_rainfall')\"\n",
              "            title=\"Generate code using this dataframe.\"\n",
              "            style=\"display:none;\">\n",
              "\n",
              "  <svg xmlns=\"http://www.w3.org/2000/svg\" height=\"24px\"viewBox=\"0 0 24 24\"\n",
              "       width=\"24px\">\n",
              "    <path d=\"M7,19H8.4L18.45,9,17,7.55,7,17.6ZM5,21V16.75L18.45,3.32a2,2,0,0,1,2.83,0l1.4,1.43a1.91,1.91,0,0,1,.58,1.4,1.91,1.91,0,0,1-.58,1.4L9.25,21ZM18.45,9,17,7.55Zm-12,3A5.31,5.31,0,0,0,4.9,8.1,5.31,5.31,0,0,0,1,6.5,5.31,5.31,0,0,0,4.9,4.9,5.31,5.31,0,0,0,6.5,1,5.31,5.31,0,0,0,8.1,4.9,5.31,5.31,0,0,0,12,6.5,5.46,5.46,0,0,0,6.5,12Z\"/>\n",
              "  </svg>\n",
              "    </button>\n",
              "    <script>\n",
              "      (() => {\n",
              "      const buttonEl =\n",
              "        document.querySelector('#id_3cb1b8c3-472e-4d99-a715-099dc2385380 button.colab-df-generate');\n",
              "      buttonEl.style.display =\n",
              "        google.colab.kernel.accessAllowed ? 'block' : 'none';\n",
              "\n",
              "      buttonEl.onclick = () => {\n",
              "        google.colab.notebook.generateWithVariable('df_rainfall');\n",
              "      }\n",
              "      })();\n",
              "    </script>\n",
              "  </div>\n",
              "\n",
              "    </div>\n",
              "  </div>\n"
            ],
            "application/vnd.google.colaboratory.intrinsic+json": {
              "type": "dataframe",
              "variable_name": "df_rainfall",
              "summary": "{\n  \"name\": \"df_rainfall\",\n  \"rows\": 2922,\n  \"fields\": [\n    {\n      \"column\": \"date\",\n      \"properties\": {\n        \"dtype\": \"object\",\n        \"num_unique_values\": 1461,\n        \"samples\": [\n          \"2022-06-11\",\n          \"2023-01-10\",\n          \"2021-02-17\"\n        ],\n        \"semantic_type\": \"\",\n        \"description\": \"\"\n      }\n    },\n    {\n      \"column\": \"city\",\n      \"properties\": {\n        \"dtype\": \"category\",\n        \"num_unique_values\": 2,\n        \"samples\": [\n          \"SEA\",\n          \"NYC\"\n        ],\n        \"semantic_type\": \"\",\n        \"description\": \"\"\n      }\n    },\n    {\n      \"column\": \"precipitation\",\n      \"properties\": {\n        \"dtype\": \"number\",\n        \"std\": 0.36446313967621335,\n        \"min\": 0.0,\n        \"max\": 7.13,\n        \"num_unique_values\": 157,\n        \"samples\": [\n          0.66,\n          1.25\n        ],\n        \"semantic_type\": \"\",\n        \"description\": \"\"\n      }\n    },\n    {\n      \"column\": \"month\",\n      \"properties\": {\n        \"dtype\": \"number\",\n        \"std\": 3,\n        \"min\": 1,\n        \"max\": 12,\n        \"num_unique_values\": 12,\n        \"samples\": [\n          11,\n          10\n        ],\n        \"semantic_type\": \"\",\n        \"description\": \"\"\n      }\n    },\n    {\n      \"column\": \"year\",\n      \"properties\": {\n        \"dtype\": \"number\",\n        \"std\": 1,\n        \"min\": 2020,\n        \"max\": 2023,\n        \"num_unique_values\": 4,\n        \"samples\": [\n          2021,\n          2023\n        ],\n        \"semantic_type\": \"\",\n        \"description\": \"\"\n      }\n    }\n  ]\n}"
            }
          },
          "metadata": {},
          "execution_count": 34
        }
      ]
    },
    {
      "cell_type": "markdown",
      "source": [
        "##### $\\rightarrow$ Review the contents of the data set.\n",
        "- This dataset contains combined data from seattle and new york city rainfall stations of precipitation levels everyday for three years from various data stations throughout the state."
      ],
      "metadata": {
        "id": "79uDfIiT4raQ"
      }
    },
    {
      "cell_type": "markdown",
      "source": [
        "## State your questions"
      ],
      "metadata": {
        "id": "bObnX61C95DL"
      }
    },
    {
      "cell_type": "markdown",
      "source": [
        "The overall problem is to compare how much it rains in Seattle and New York City. To answer this general problem, you will need to ask specific questions about the data.\n"
      ],
      "metadata": {
        "id": "RnmjIKMJ99dJ"
      }
    },
    {
      "cell_type": "markdown",
      "source": [
        "##### $\\rightarrow$ List your questions about the data that will help you solve the problem.\n",
        "- Which city has the highest rainfall/ precipitation level per year?\n",
        "- Which seasons are have the least amount of rainfall if someone wanted to plan travel around the rain?\n",
        "- How does precipitation vary by year? Could there have been natural disasters or environmental facotors that influenced this."
      ],
      "metadata": {
        "id": "h8NWZuty-NJJ"
      }
    },
    {
      "cell_type": "markdown",
      "source": [
        "## Analysis"
      ],
      "metadata": {
        "id": "bkTA97Z7QgpH"
      }
    },
    {
      "cell_type": "markdown",
      "source": [
        "Perform analyses necessary to answer the questions. You will likely start by trying many things, some of which are useful and some of which are not. Don't be afraid to try different analyses at first. You will edit your notebook to a clean version that retains only the essential components at the end of the project."
      ],
      "metadata": {
        "id": "0v1SrECiQjfZ"
      }
    },
    {
      "cell_type": "markdown",
      "source": [
        "The following code generates a line chart that shows the change in average precipitation of each month in each city using Altair."
      ],
      "metadata": {
        "id": "6bOt1NvTRjQj"
      }
    },
    {
      "cell_type": "code",
      "source": [
        "df_avg_precipitation = df_rainfall.groupby(['city', 'month']).agg({'precipitation': 'mean'}).reset_index()\n",
        "\n",
        "alt.Chart(df_avg_precipitation).mark_line().encode(\n",
        "    alt.Y('precipitation:Q', title='Average Precipitation (inches)'),\n",
        "    alt.X('month:O', title='Month', axis=alt.Axis(labelAngle=45)),\n",
        "    alt.Color('city:N', title='City')\n",
        ").properties(\n",
        "    width=800,\n",
        "    height=400,\n",
        "    title='Precipitation Average'\n",
        ")"
      ],
      "metadata": {
        "colab": {
          "base_uri": "https://localhost:8080/",
          "height": 490
        },
        "id": "uz5HYmmaGtEy",
        "outputId": "6e064351-a76f-43c7-d8d4-7076b1f218e3"
      },
      "execution_count": 70,
      "outputs": [
        {
          "output_type": "execute_result",
          "data": {
            "text/html": [
              "\n",
              "<div id=\"altair-viz-9cc64f98e15e47a5ac670f0a8d427517\"></div>\n",
              "<script type=\"text/javascript\">\n",
              "  var VEGA_DEBUG = (typeof VEGA_DEBUG == \"undefined\") ? {} : VEGA_DEBUG;\n",
              "  (function(spec, embedOpt){\n",
              "    let outputDiv = document.currentScript.previousElementSibling;\n",
              "    if (outputDiv.id !== \"altair-viz-9cc64f98e15e47a5ac670f0a8d427517\") {\n",
              "      outputDiv = document.getElementById(\"altair-viz-9cc64f98e15e47a5ac670f0a8d427517\");\n",
              "    }\n",
              "    const paths = {\n",
              "      \"vega\": \"https://cdn.jsdelivr.net/npm//vega@5?noext\",\n",
              "      \"vega-lib\": \"https://cdn.jsdelivr.net/npm//vega-lib?noext\",\n",
              "      \"vega-lite\": \"https://cdn.jsdelivr.net/npm//vega-lite@4.17.0?noext\",\n",
              "      \"vega-embed\": \"https://cdn.jsdelivr.net/npm//vega-embed@6?noext\",\n",
              "    };\n",
              "\n",
              "    function maybeLoadScript(lib, version) {\n",
              "      var key = `${lib.replace(\"-\", \"\")}_version`;\n",
              "      return (VEGA_DEBUG[key] == version) ?\n",
              "        Promise.resolve(paths[lib]) :\n",
              "        new Promise(function(resolve, reject) {\n",
              "          var s = document.createElement('script');\n",
              "          document.getElementsByTagName(\"head\")[0].appendChild(s);\n",
              "          s.async = true;\n",
              "          s.onload = () => {\n",
              "            VEGA_DEBUG[key] = version;\n",
              "            return resolve(paths[lib]);\n",
              "          };\n",
              "          s.onerror = () => reject(`Error loading script: ${paths[lib]}`);\n",
              "          s.src = paths[lib];\n",
              "        });\n",
              "    }\n",
              "\n",
              "    function showError(err) {\n",
              "      outputDiv.innerHTML = `<div class=\"error\" style=\"color:red;\">${err}</div>`;\n",
              "      throw err;\n",
              "    }\n",
              "\n",
              "    function displayChart(vegaEmbed) {\n",
              "      vegaEmbed(outputDiv, spec, embedOpt)\n",
              "        .catch(err => showError(`Javascript Error: ${err.message}<br>This usually means there's a typo in your chart specification. See the javascript console for the full traceback.`));\n",
              "    }\n",
              "\n",
              "    if(typeof define === \"function\" && define.amd) {\n",
              "      requirejs.config({paths});\n",
              "      require([\"vega-embed\"], displayChart, err => showError(`Error loading script: ${err.message}`));\n",
              "    } else {\n",
              "      maybeLoadScript(\"vega\", \"5\")\n",
              "        .then(() => maybeLoadScript(\"vega-lite\", \"4.17.0\"))\n",
              "        .then(() => maybeLoadScript(\"vega-embed\", \"6\"))\n",
              "        .catch(showError)\n",
              "        .then(() => displayChart(vegaEmbed));\n",
              "    }\n",
              "  })({\"config\": {\"view\": {\"continuousWidth\": 400, \"continuousHeight\": 300}}, \"data\": {\"name\": \"data-d7ea2f1dfed8f659120ed419a2af4ddd\"}, \"mark\": \"line\", \"encoding\": {\"color\": {\"field\": \"city\", \"title\": \"City\", \"type\": \"nominal\"}, \"x\": {\"axis\": {\"labelAngle\": 45}, \"field\": \"month\", \"title\": \"Month\", \"type\": \"ordinal\"}, \"y\": {\"field\": \"precipitation\", \"title\": \"Average Precipitation (inches)\", \"type\": \"quantitative\"}}, \"height\": 400, \"title\": \"Precipitation Average\", \"width\": 800, \"$schema\": \"https://vega.github.io/schema/vega-lite/v4.17.0.json\", \"datasets\": {\"data-d7ea2f1dfed8f659120ed419a2af4ddd\": [{\"city\": \"NYC\", \"month\": 1, \"precipitation\": 0.11154471544715448}, {\"city\": \"NYC\", \"month\": 2, \"precipitation\": 0.12587155963302754}, {\"city\": \"NYC\", \"month\": 3, \"precipitation\": 0.10983739837398374}, {\"city\": \"NYC\", \"month\": 4, \"precipitation\": 0.1340677966101695}, {\"city\": \"NYC\", \"month\": 5, \"precipitation\": 0.13379032258064516}, {\"city\": \"NYC\", \"month\": 6, \"precipitation\": 0.09183333333333334}, {\"city\": \"NYC\", \"month\": 7, \"precipitation\": 0.18747967479674796}, {\"city\": \"NYC\", \"month\": 8, \"precipitation\": 0.14459016393442622}, {\"city\": \"NYC\", \"month\": 9, \"precipitation\": 0.2745378151260504}, {\"city\": \"NYC\", \"month\": 10, \"precipitation\": 0.16891666666666666}, {\"city\": \"NYC\", \"month\": 11, \"precipitation\": 0.08478991596638655}, {\"city\": \"NYC\", \"month\": 12, \"precipitation\": 0.16581967213114754}, {\"city\": \"SEA\", \"month\": 1, \"precipitation\": 0.25025000000000003}, {\"city\": \"SEA\", \"month\": 2, \"precipitation\": 0.14200000000000002}, {\"city\": \"SEA\", \"month\": 3, \"precipitation\": 0.09897435897435898}, {\"city\": \"SEA\", \"month\": 4, \"precipitation\": 0.07833333333333332}, {\"city\": \"SEA\", \"month\": 5, \"precipitation\": 0.07658333333333332}, {\"city\": \"SEA\", \"month\": 6, \"precipitation\": 0.07436974789915966}, {\"city\": \"SEA\", \"month\": 7, \"precipitation\": 0.012333333333333333}, {\"city\": \"SEA\", \"month\": 8, \"precipitation\": 0.011271186440677967}, {\"city\": \"SEA\", \"month\": 9, \"precipitation\": 0.10859649122807018}, {\"city\": \"SEA\", \"month\": 10, \"precipitation\": 0.11432203389830509}, {\"city\": \"SEA\", \"month\": 11, \"precipitation\": 0.19703389830508475}, {\"city\": \"SEA\", \"month\": 12, \"precipitation\": 0.23771186440677966}]}}, {\"mode\": \"vega-lite\"});\n",
              "</script>"
            ],
            "text/plain": [
              "alt.Chart(...)"
            ]
          },
          "metadata": {},
          "execution_count": 70
        }
      ]
    },
    {
      "cell_type": "markdown",
      "source": [
        "I chose to do this chart in Altair because it it what I am familar with from the last data visualization course I took. It clearnly shows the average precipitation on each month and how it changes throughout the year for each city. Seattle is seen in orange and New York is in blue."
      ],
      "metadata": {
        "id": "egP7udKtT1gb"
      }
    },
    {
      "cell_type": "markdown",
      "source": [
        "The code below creates a histogram chart showing the average precipitation of each city by year."
      ],
      "metadata": {
        "id": "DBwo29x_UH6s"
      }
    },
    {
      "cell_type": "code",
      "source": [
        "df_avg_precipitation = df_rainfall.groupby(['city', 'year']).agg({'precipitation': 'mean'}).reset_index()\n",
        "alt.Chart(df_avg_precipitation).mark_bar().encode(\n",
        "    x='city:O',\n",
        "    y='precipitation:Q',\n",
        "    color='city:N',\n",
        "    column='year:O'\n",
        ").properties(\n",
        "    width=200,\n",
        "    height=400,\n",
        "    title='Precipitation Average'\n",
        ")"
      ],
      "metadata": {
        "colab": {
          "base_uri": "https://localhost:8080/",
          "height": 545
        },
        "id": "nyiG0780gBuA",
        "outputId": "cef10427-28d5-47ad-8a59-59e8ebf32352"
      },
      "execution_count": 85,
      "outputs": [
        {
          "output_type": "execute_result",
          "data": {
            "text/html": [
              "\n",
              "<div id=\"altair-viz-4b4d5b1f341a4df8a763bc23317634c6\"></div>\n",
              "<script type=\"text/javascript\">\n",
              "  var VEGA_DEBUG = (typeof VEGA_DEBUG == \"undefined\") ? {} : VEGA_DEBUG;\n",
              "  (function(spec, embedOpt){\n",
              "    let outputDiv = document.currentScript.previousElementSibling;\n",
              "    if (outputDiv.id !== \"altair-viz-4b4d5b1f341a4df8a763bc23317634c6\") {\n",
              "      outputDiv = document.getElementById(\"altair-viz-4b4d5b1f341a4df8a763bc23317634c6\");\n",
              "    }\n",
              "    const paths = {\n",
              "      \"vega\": \"https://cdn.jsdelivr.net/npm//vega@5?noext\",\n",
              "      \"vega-lib\": \"https://cdn.jsdelivr.net/npm//vega-lib?noext\",\n",
              "      \"vega-lite\": \"https://cdn.jsdelivr.net/npm//vega-lite@4.17.0?noext\",\n",
              "      \"vega-embed\": \"https://cdn.jsdelivr.net/npm//vega-embed@6?noext\",\n",
              "    };\n",
              "\n",
              "    function maybeLoadScript(lib, version) {\n",
              "      var key = `${lib.replace(\"-\", \"\")}_version`;\n",
              "      return (VEGA_DEBUG[key] == version) ?\n",
              "        Promise.resolve(paths[lib]) :\n",
              "        new Promise(function(resolve, reject) {\n",
              "          var s = document.createElement('script');\n",
              "          document.getElementsByTagName(\"head\")[0].appendChild(s);\n",
              "          s.async = true;\n",
              "          s.onload = () => {\n",
              "            VEGA_DEBUG[key] = version;\n",
              "            return resolve(paths[lib]);\n",
              "          };\n",
              "          s.onerror = () => reject(`Error loading script: ${paths[lib]}`);\n",
              "          s.src = paths[lib];\n",
              "        });\n",
              "    }\n",
              "\n",
              "    function showError(err) {\n",
              "      outputDiv.innerHTML = `<div class=\"error\" style=\"color:red;\">${err}</div>`;\n",
              "      throw err;\n",
              "    }\n",
              "\n",
              "    function displayChart(vegaEmbed) {\n",
              "      vegaEmbed(outputDiv, spec, embedOpt)\n",
              "        .catch(err => showError(`Javascript Error: ${err.message}<br>This usually means there's a typo in your chart specification. See the javascript console for the full traceback.`));\n",
              "    }\n",
              "\n",
              "    if(typeof define === \"function\" && define.amd) {\n",
              "      requirejs.config({paths});\n",
              "      require([\"vega-embed\"], displayChart, err => showError(`Error loading script: ${err.message}`));\n",
              "    } else {\n",
              "      maybeLoadScript(\"vega\", \"5\")\n",
              "        .then(() => maybeLoadScript(\"vega-lite\", \"4.17.0\"))\n",
              "        .then(() => maybeLoadScript(\"vega-embed\", \"6\"))\n",
              "        .catch(showError)\n",
              "        .then(() => displayChart(vegaEmbed));\n",
              "    }\n",
              "  })({\"config\": {\"view\": {\"continuousWidth\": 400, \"continuousHeight\": 300}}, \"data\": {\"name\": \"data-e100c8ef60abaefb66805f64c07540d0\"}, \"mark\": \"bar\", \"encoding\": {\"color\": {\"field\": \"city\", \"type\": \"nominal\"}, \"column\": {\"field\": \"year\", \"type\": \"ordinal\"}, \"x\": {\"field\": \"city\", \"type\": \"ordinal\"}, \"y\": {\"field\": \"precipitation\", \"type\": \"quantitative\"}}, \"height\": 400, \"title\": \"Precipitation Average\", \"width\": 200, \"$schema\": \"https://vega.github.io/schema/vega-lite/v4.17.0.json\", \"datasets\": {\"data-e100c8ef60abaefb66805f64c07540d0\": [{\"city\": \"NYC\", \"year\": 2020, \"precipitation\": 0.12038461538461538}, {\"city\": \"NYC\", \"year\": 2021, \"precipitation\": 0.18107734806629833}, {\"city\": \"NYC\", \"year\": 2022, \"precipitation\": 0.11}, {\"city\": \"NYC\", \"year\": 2023, \"precipitation\": 0.16645251396648045}, {\"city\": \"SEA\", \"year\": 2020, \"precipitation\": 0.12363636363636364}, {\"city\": \"SEA\", \"year\": 2021, \"precipitation\": 0.11959537572254336}, {\"city\": \"SEA\", \"year\": 2022, \"precipitation\": 0.12369318181818181}, {\"city\": \"SEA\", \"year\": 2023, \"precipitation\": 0.09980056980056981}]}}, {\"mode\": \"vega-lite\"});\n",
              "</script>"
            ],
            "text/plain": [
              "alt.Chart(...)"
            ]
          },
          "metadata": {},
          "execution_count": 85
        }
      ]
    },
    {
      "cell_type": "markdown",
      "source": [
        "The chart above is good at showing the comparison of precipitation by year and we can see the Seattle rainfall stays pretty consistent every year. This was also created using Altair."
      ],
      "metadata": {
        "id": "3vxQkPwifx5K"
      }
    },
    {
      "cell_type": "markdown",
      "source": [
        "The code below creates a heatmap in altair that compares the amount of precipitation per month between New York and Seattle."
      ],
      "metadata": {
        "id": "C7VKBq6Bgyrz"
      }
    },
    {
      "cell_type": "code",
      "source": [
        "df_avg_precipitation = df_rainfall.groupby(['city', 'month']).agg({'precipitation': 'mean'}).reset_index()\n",
        "\n",
        "heatmap = alt.Chart(df_avg_precipitation).mark_rect().encode(\n",
        "    alt.X('month:O', title='Month', axis=alt.Axis(labelAngle=45)),\n",
        "    alt.Y('city:N', title='City'),\n",
        "    alt.Color('precipitation:Q', title='Average Precipitation (inches)', scale=alt.Scale(scheme='blues'))\n",
        ").properties(\n",
        "    width=600,\n",
        "    height=400,\n",
        "    title='Average Precipitation by Month and City'\n",
        ")\n",
        "\n",
        "text = heatmap.mark_text(baseline='middle').encode(\n",
        "    text=alt.Text('precipitation:Q', format='.2f'),\n",
        "    color=alt.value('black')\n",
        ")\n",
        "\n",
        "heatmaptext = heatmap + text\n",
        "\n",
        "heatmaptext"
      ],
      "metadata": {
        "colab": {
          "base_uri": "https://localhost:8080/",
          "height": 485
        },
        "id": "vg81WsHpTE8p",
        "outputId": "2f911dc0-9095-46ac-b1a8-e7a05ff7a66a"
      },
      "execution_count": 68,
      "outputs": [
        {
          "output_type": "execute_result",
          "data": {
            "text/html": [
              "\n",
              "<div id=\"altair-viz-f3bf327e55f048a7b1616aabfefcd78a\"></div>\n",
              "<script type=\"text/javascript\">\n",
              "  var VEGA_DEBUG = (typeof VEGA_DEBUG == \"undefined\") ? {} : VEGA_DEBUG;\n",
              "  (function(spec, embedOpt){\n",
              "    let outputDiv = document.currentScript.previousElementSibling;\n",
              "    if (outputDiv.id !== \"altair-viz-f3bf327e55f048a7b1616aabfefcd78a\") {\n",
              "      outputDiv = document.getElementById(\"altair-viz-f3bf327e55f048a7b1616aabfefcd78a\");\n",
              "    }\n",
              "    const paths = {\n",
              "      \"vega\": \"https://cdn.jsdelivr.net/npm//vega@5?noext\",\n",
              "      \"vega-lib\": \"https://cdn.jsdelivr.net/npm//vega-lib?noext\",\n",
              "      \"vega-lite\": \"https://cdn.jsdelivr.net/npm//vega-lite@4.17.0?noext\",\n",
              "      \"vega-embed\": \"https://cdn.jsdelivr.net/npm//vega-embed@6?noext\",\n",
              "    };\n",
              "\n",
              "    function maybeLoadScript(lib, version) {\n",
              "      var key = `${lib.replace(\"-\", \"\")}_version`;\n",
              "      return (VEGA_DEBUG[key] == version) ?\n",
              "        Promise.resolve(paths[lib]) :\n",
              "        new Promise(function(resolve, reject) {\n",
              "          var s = document.createElement('script');\n",
              "          document.getElementsByTagName(\"head\")[0].appendChild(s);\n",
              "          s.async = true;\n",
              "          s.onload = () => {\n",
              "            VEGA_DEBUG[key] = version;\n",
              "            return resolve(paths[lib]);\n",
              "          };\n",
              "          s.onerror = () => reject(`Error loading script: ${paths[lib]}`);\n",
              "          s.src = paths[lib];\n",
              "        });\n",
              "    }\n",
              "\n",
              "    function showError(err) {\n",
              "      outputDiv.innerHTML = `<div class=\"error\" style=\"color:red;\">${err}</div>`;\n",
              "      throw err;\n",
              "    }\n",
              "\n",
              "    function displayChart(vegaEmbed) {\n",
              "      vegaEmbed(outputDiv, spec, embedOpt)\n",
              "        .catch(err => showError(`Javascript Error: ${err.message}<br>This usually means there's a typo in your chart specification. See the javascript console for the full traceback.`));\n",
              "    }\n",
              "\n",
              "    if(typeof define === \"function\" && define.amd) {\n",
              "      requirejs.config({paths});\n",
              "      require([\"vega-embed\"], displayChart, err => showError(`Error loading script: ${err.message}`));\n",
              "    } else {\n",
              "      maybeLoadScript(\"vega\", \"5\")\n",
              "        .then(() => maybeLoadScript(\"vega-lite\", \"4.17.0\"))\n",
              "        .then(() => maybeLoadScript(\"vega-embed\", \"6\"))\n",
              "        .catch(showError)\n",
              "        .then(() => displayChart(vegaEmbed));\n",
              "    }\n",
              "  })({\"config\": {\"view\": {\"continuousWidth\": 400, \"continuousHeight\": 300}}, \"layer\": [{\"mark\": \"rect\", \"encoding\": {\"color\": {\"field\": \"precipitation\", \"scale\": {\"scheme\": \"blues\"}, \"title\": \"Average Precipitation (inches)\", \"type\": \"quantitative\"}, \"x\": {\"axis\": {\"labelAngle\": 45}, \"field\": \"month\", \"title\": \"Month\", \"type\": \"ordinal\"}, \"y\": {\"field\": \"city\", \"title\": \"City\", \"type\": \"nominal\"}}, \"height\": 400, \"title\": \"Average Precipitation by Month and City\", \"width\": 600}, {\"mark\": {\"type\": \"text\", \"baseline\": \"middle\"}, \"encoding\": {\"color\": {\"value\": \"black\"}, \"text\": {\"field\": \"precipitation\", \"format\": \".2f\", \"type\": \"quantitative\"}, \"x\": {\"axis\": {\"labelAngle\": 45}, \"field\": \"month\", \"title\": \"Month\", \"type\": \"ordinal\"}, \"y\": {\"field\": \"city\", \"title\": \"City\", \"type\": \"nominal\"}}, \"height\": 400, \"title\": \"Average Precipitation by Month and City\", \"width\": 600}], \"data\": {\"name\": \"data-d7ea2f1dfed8f659120ed419a2af4ddd\"}, \"$schema\": \"https://vega.github.io/schema/vega-lite/v4.17.0.json\", \"datasets\": {\"data-d7ea2f1dfed8f659120ed419a2af4ddd\": [{\"city\": \"NYC\", \"month\": 1, \"precipitation\": 0.11154471544715448}, {\"city\": \"NYC\", \"month\": 2, \"precipitation\": 0.12587155963302754}, {\"city\": \"NYC\", \"month\": 3, \"precipitation\": 0.10983739837398374}, {\"city\": \"NYC\", \"month\": 4, \"precipitation\": 0.1340677966101695}, {\"city\": \"NYC\", \"month\": 5, \"precipitation\": 0.13379032258064516}, {\"city\": \"NYC\", \"month\": 6, \"precipitation\": 0.09183333333333334}, {\"city\": \"NYC\", \"month\": 7, \"precipitation\": 0.18747967479674796}, {\"city\": \"NYC\", \"month\": 8, \"precipitation\": 0.14459016393442622}, {\"city\": \"NYC\", \"month\": 9, \"precipitation\": 0.2745378151260504}, {\"city\": \"NYC\", \"month\": 10, \"precipitation\": 0.16891666666666666}, {\"city\": \"NYC\", \"month\": 11, \"precipitation\": 0.08478991596638655}, {\"city\": \"NYC\", \"month\": 12, \"precipitation\": 0.16581967213114754}, {\"city\": \"SEA\", \"month\": 1, \"precipitation\": 0.25025000000000003}, {\"city\": \"SEA\", \"month\": 2, \"precipitation\": 0.14200000000000002}, {\"city\": \"SEA\", \"month\": 3, \"precipitation\": 0.09897435897435898}, {\"city\": \"SEA\", \"month\": 4, \"precipitation\": 0.07833333333333332}, {\"city\": \"SEA\", \"month\": 5, \"precipitation\": 0.07658333333333332}, {\"city\": \"SEA\", \"month\": 6, \"precipitation\": 0.07436974789915966}, {\"city\": \"SEA\", \"month\": 7, \"precipitation\": 0.012333333333333333}, {\"city\": \"SEA\", \"month\": 8, \"precipitation\": 0.011271186440677967}, {\"city\": \"SEA\", \"month\": 9, \"precipitation\": 0.10859649122807018}, {\"city\": \"SEA\", \"month\": 10, \"precipitation\": 0.11432203389830509}, {\"city\": \"SEA\", \"month\": 11, \"precipitation\": 0.19703389830508475}, {\"city\": \"SEA\", \"month\": 12, \"precipitation\": 0.23771186440677966}]}}, {\"mode\": \"vega-lite\"});\n",
              "</script>"
            ],
            "text/plain": [
              "alt.LayerChart(...)"
            ]
          },
          "metadata": {},
          "execution_count": 68
        }
      ]
    },
    {
      "cell_type": "markdown",
      "source": [
        "As you can see, as precipitation increases, the darker the blue becomes which gives us a more visual way to interpret the increases and decreases."
      ],
      "metadata": {
        "id": "8fSbPsW0hNhd"
      }
    },
    {
      "cell_type": "markdown",
      "source": [
        "The code below was down produces a line graph that separated the data by season."
      ],
      "metadata": {
        "id": "4PyBTvKXhS1u"
      }
    },
    {
      "cell_type": "code",
      "source": [
        "def map_month_to_season(month):\n",
        "    if month in [12, 1, 2]:\n",
        "        return 'Winter'\n",
        "    elif month in [3, 4, 5]:\n",
        "        return 'Spring'\n",
        "    elif month in [6, 7, 8]:\n",
        "        return 'Summer'\n",
        "    else:\n",
        "        return 'Fall'\n",
        "\n",
        "df_rainfall['season'] = df_rainfall['month'].apply(map_month_to_season)\n",
        "\n",
        "plt.figure(figsize=(20, 5))\n",
        "\n",
        "sns.lineplot(data=df_rainfall, x='season', y='precipitation', hue='city')\n",
        "\n",
        "plt.xlabel('Season', fontsize=18)\n",
        "plt.ylabel('Precipitation (inches)', fontsize=18)\n",
        "\n",
        "plt.xticks(ticks=np.arange(4), labels=['Winter', 'Spring', 'Summer', 'Fall'])\n",
        "\n",
        "plt.tick_params(labelsize=15)\n",
        "\n",
        "plt.title('Average Precipitation by Season', fontsize=20)\n",
        "\n",
        "plt.show()"
      ],
      "metadata": {
        "colab": {
          "base_uri": "https://localhost:8080/",
          "height": 460
        },
        "id": "9h9YL1u_PWi-",
        "outputId": "cdee6985-21be-4317-8e0c-188246f3a9d6"
      },
      "execution_count": 81,
      "outputs": [
        {
          "output_type": "display_data",
          "data": {
            "text/plain": [
              "<Figure size 2000x500 with 1 Axes>"
            ],
            "image/png": "[encoded data removed]"
          },
          "metadata": {}
        }
      ]
    },
    {
      "cell_type": "markdown",
      "source": [
        "I created this graph using the demonstartion in class and added the parameters to create divisions in the graph to show when the seasons start and end to give an idea of what precipitation is in different seasons."
      ],
      "metadata": {
        "id": "aWT2qQf0hcBC"
      }
    },
    {
      "cell_type": "markdown",
      "source": [
        "### Results for communication assignment"
      ],
      "metadata": {
        "id": "MmQztgX-q9rf"
      }
    },
    {
      "cell_type": "markdown",
      "source": [
        "This file should clearly produce the graphs, tables, models, etc that appear in the communication assignment. Above I have created clear line graphs, histograms, and a heatmap to communicate this data."
      ],
      "metadata": {
        "id": "haBhD5t8rRM_"
      }
    },
    {
      "cell_type": "markdown",
      "source": [
        "## Conclusion"
      ],
      "metadata": {
        "id": "OClcegJVrF8Y"
      }
    },
    {
      "cell_type": "markdown",
      "source": [
        "Provide a brief description of your conclusions."
      ],
      "metadata": {
        "id": "45aRW_rjrHT5"
      }
    },
    {
      "cell_type": "markdown",
      "source": [
        "The city of Seattle has higher average rainfall per year than New York City. Specifically during late fall and winter are when these precipitartion levels are at its peak. For New York city, its peak months of rainfall are in Fall which are similar to Seattle. Overall the rainfall in Seattle is more consistant than New York citys rainfall which we can see in our yearly histogram."
      ],
      "metadata": {
        "id": "ghrpLiGFQlBh"
      }
    }
  ]
}